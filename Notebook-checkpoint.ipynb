{
 "cells": [
  {
   "cell_type": "code",
   "execution_count": 83,
   "id": "3a0bfb59",
   "metadata": {},
   "outputs": [],
   "source": [
    "import numpy as np\n",
    "import pandas as pd\n",
    "from sklearn.preprocessing import LabelEncoder\n",
    "from sklearn.metrics import accuracy_score\n",
    "from sklearn.model_selection import KFold\n",
    "import seaborn as sn\n",
    "import matplotlib.pyplot as plt\n"
   ]
  },
  {
   "cell_type": "code",
   "execution_count": 84,
   "id": "85ff89c7",
   "metadata": {},
   "outputs": [],
   "source": [
    "data = pd.read_csv(\"data.csv\")"
   ]
  },
  {
   "cell_type": "code",
   "execution_count": 85,
   "id": "637bfe91",
   "metadata": {},
   "outputs": [
    {
     "data": {
      "text/html": [
       "<div>\n",
       "<style scoped>\n",
       "    .dataframe tbody tr th:only-of-type {\n",
       "        vertical-align: middle;\n",
       "    }\n",
       "\n",
       "    .dataframe tbody tr th {\n",
       "        vertical-align: top;\n",
       "    }\n",
       "\n",
       "    .dataframe thead th {\n",
       "        text-align: right;\n",
       "    }\n",
       "</style>\n",
       "<table border=\"1\" class=\"dataframe\">\n",
       "  <thead>\n",
       "    <tr style=\"text-align: right;\">\n",
       "      <th></th>\n",
       "      <th>Gender</th>\n",
       "      <th>Age</th>\n",
       "      <th>I learn better by reading what the teacher writes on the chalkboard.</th>\n",
       "      <th>When I read instructions, I remember them better.</th>\n",
       "      <th>I understand better when I read instructions.</th>\n",
       "      <th>I learn better by reading than by listening to someone.</th>\n",
       "      <th>I learn more by reading textbooks than by listening to lectures.</th>\n",
       "      <th>When the teacher tells me the instructions I understand better</th>\n",
       "      <th>When someone tells me how to do something in class, I learn it better.</th>\n",
       "      <th>I remember things I have heard in class better than things I have read.</th>\n",
       "      <th>I learn better in class when the teacher gives a lecture.</th>\n",
       "      <th>I learn better in class when I listen to someone.</th>\n",
       "      <th>I prefer to learn by doing something in class.</th>\n",
       "      <th>When I do things in class, I learn better.</th>\n",
       "      <th>I enjoy learning in class by doing experiments.</th>\n",
       "      <th>I understand things better in class when I participate in role-playing.</th>\n",
       "      <th>I understand things better in class when I participate in GD.</th>\n",
       "      <th>Learner</th>\n",
       "    </tr>\n",
       "  </thead>\n",
       "  <tbody>\n",
       "    <tr>\n",
       "      <th>0</th>\n",
       "      <td>Male</td>\n",
       "      <td>16</td>\n",
       "      <td>3</td>\n",
       "      <td>3</td>\n",
       "      <td>4</td>\n",
       "      <td>3</td>\n",
       "      <td>2</td>\n",
       "      <td>4</td>\n",
       "      <td>3</td>\n",
       "      <td>3</td>\n",
       "      <td>2</td>\n",
       "      <td>3</td>\n",
       "      <td>4</td>\n",
       "      <td>2</td>\n",
       "      <td>2</td>\n",
       "      <td>3</td>\n",
       "      <td>3</td>\n",
       "      <td>K</td>\n",
       "    </tr>\n",
       "    <tr>\n",
       "      <th>1</th>\n",
       "      <td>Male</td>\n",
       "      <td>16</td>\n",
       "      <td>5</td>\n",
       "      <td>4</td>\n",
       "      <td>4</td>\n",
       "      <td>4</td>\n",
       "      <td>3</td>\n",
       "      <td>3</td>\n",
       "      <td>2</td>\n",
       "      <td>4</td>\n",
       "      <td>3</td>\n",
       "      <td>4</td>\n",
       "      <td>3</td>\n",
       "      <td>4</td>\n",
       "      <td>3</td>\n",
       "      <td>4</td>\n",
       "      <td>4</td>\n",
       "      <td>A</td>\n",
       "    </tr>\n",
       "    <tr>\n",
       "      <th>2</th>\n",
       "      <td>Male</td>\n",
       "      <td>18</td>\n",
       "      <td>3</td>\n",
       "      <td>4</td>\n",
       "      <td>3</td>\n",
       "      <td>3</td>\n",
       "      <td>4</td>\n",
       "      <td>2</td>\n",
       "      <td>4</td>\n",
       "      <td>3</td>\n",
       "      <td>2</td>\n",
       "      <td>2</td>\n",
       "      <td>3</td>\n",
       "      <td>2</td>\n",
       "      <td>3</td>\n",
       "      <td>3</td>\n",
       "      <td>3</td>\n",
       "      <td>A</td>\n",
       "    </tr>\n",
       "    <tr>\n",
       "      <th>3</th>\n",
       "      <td>Male</td>\n",
       "      <td>21</td>\n",
       "      <td>1</td>\n",
       "      <td>3</td>\n",
       "      <td>3</td>\n",
       "      <td>4</td>\n",
       "      <td>4</td>\n",
       "      <td>2</td>\n",
       "      <td>2</td>\n",
       "      <td>2</td>\n",
       "      <td>2</td>\n",
       "      <td>2</td>\n",
       "      <td>4</td>\n",
       "      <td>4</td>\n",
       "      <td>4</td>\n",
       "      <td>4</td>\n",
       "      <td>5</td>\n",
       "      <td>K</td>\n",
       "    </tr>\n",
       "    <tr>\n",
       "      <th>4</th>\n",
       "      <td>Female</td>\n",
       "      <td>21</td>\n",
       "      <td>4</td>\n",
       "      <td>4</td>\n",
       "      <td>4</td>\n",
       "      <td>5</td>\n",
       "      <td>5</td>\n",
       "      <td>4</td>\n",
       "      <td>4</td>\n",
       "      <td>3</td>\n",
       "      <td>4</td>\n",
       "      <td>4</td>\n",
       "      <td>5</td>\n",
       "      <td>5</td>\n",
       "      <td>5</td>\n",
       "      <td>3</td>\n",
       "      <td>3</td>\n",
       "      <td>A</td>\n",
       "    </tr>\n",
       "  </tbody>\n",
       "</table>\n",
       "</div>"
      ],
      "text/plain": [
       "   Gender  Age  \\\n",
       "0    Male   16   \n",
       "1    Male   16   \n",
       "2    Male   18   \n",
       "3    Male   21   \n",
       "4  Female   21   \n",
       "\n",
       "   I learn better by reading what the teacher writes on the chalkboard.  \\\n",
       "0                                                  3                      \n",
       "1                                                  5                      \n",
       "2                                                  3                      \n",
       "3                                                  1                      \n",
       "4                                                  4                      \n",
       "\n",
       "   When I read instructions, I remember them better.  \\\n",
       "0                                                  3   \n",
       "1                                                  4   \n",
       "2                                                  4   \n",
       "3                                                  3   \n",
       "4                                                  4   \n",
       "\n",
       "   I understand better when I read instructions.  \\\n",
       "0                                              4   \n",
       "1                                              4   \n",
       "2                                              3   \n",
       "3                                              3   \n",
       "4                                              4   \n",
       "\n",
       "   I learn better by reading than by listening to someone.  \\\n",
       "0                                                  3         \n",
       "1                                                  4         \n",
       "2                                                  3         \n",
       "3                                                  4         \n",
       "4                                                  5         \n",
       "\n",
       "   I learn more by reading textbooks than by listening to lectures.  \\\n",
       "0                                                  2                  \n",
       "1                                                  3                  \n",
       "2                                                  4                  \n",
       "3                                                  4                  \n",
       "4                                                  5                  \n",
       "\n",
       "   When the teacher tells me the instructions I understand better  \\\n",
       "0                                                  4                \n",
       "1                                                  3                \n",
       "2                                                  2                \n",
       "3                                                  2                \n",
       "4                                                  4                \n",
       "\n",
       "   When someone tells me how to do something in class, I learn it better.  \\\n",
       "0                                                  3                        \n",
       "1                                                  2                        \n",
       "2                                                  4                        \n",
       "3                                                  2                        \n",
       "4                                                  4                        \n",
       "\n",
       "   I remember things I have heard in class better than things I have read.  \\\n",
       "0                                                  3                         \n",
       "1                                                  4                         \n",
       "2                                                  3                         \n",
       "3                                                  2                         \n",
       "4                                                  3                         \n",
       "\n",
       "   I learn better in class when the teacher gives a lecture.  \\\n",
       "0                                                  2           \n",
       "1                                                  3           \n",
       "2                                                  2           \n",
       "3                                                  2           \n",
       "4                                                  4           \n",
       "\n",
       "   I learn better in class when I listen to someone.  \\\n",
       "0                                                  3   \n",
       "1                                                  4   \n",
       "2                                                  2   \n",
       "3                                                  2   \n",
       "4                                                  4   \n",
       "\n",
       "   I prefer to learn by doing something in class.  \\\n",
       "0                                               4   \n",
       "1                                               3   \n",
       "2                                               3   \n",
       "3                                               4   \n",
       "4                                               5   \n",
       "\n",
       "   When I do things in class, I learn better.  \\\n",
       "0                                           2   \n",
       "1                                           4   \n",
       "2                                           2   \n",
       "3                                           4   \n",
       "4                                           5   \n",
       "\n",
       "   I enjoy learning in class by doing experiments.  \\\n",
       "0                                                2   \n",
       "1                                                3   \n",
       "2                                                3   \n",
       "3                                                4   \n",
       "4                                                5   \n",
       "\n",
       "   I understand things better in class when I participate in role-playing.  \\\n",
       "0                                                  3                         \n",
       "1                                                  4                         \n",
       "2                                                  3                         \n",
       "3                                                  4                         \n",
       "4                                                  3                         \n",
       "\n",
       "   I understand things better in class when I participate in GD. Learner  \n",
       "0                                                  3                   K  \n",
       "1                                                  4                   A  \n",
       "2                                                  3                   A  \n",
       "3                                                  5                   K  \n",
       "4                                                  3                   A  "
      ]
     },
     "execution_count": 85,
     "metadata": {},
     "output_type": "execute_result"
    }
   ],
   "source": [
    "data.head()"
   ]
  },
  {
   "cell_type": "code",
   "execution_count": 86,
   "id": "88b535a6",
   "metadata": {},
   "outputs": [
    {
     "name": "stdout",
     "output_type": "stream",
     "text": [
      "<class 'pandas.core.frame.DataFrame'>\n",
      "RangeIndex: 1210 entries, 0 to 1209\n",
      "Data columns (total 18 columns):\n",
      " #   Column                                                                   Non-Null Count  Dtype \n",
      "---  ------                                                                   --------------  ----- \n",
      " 0   Gender                                                                   1210 non-null   object\n",
      " 1   Age                                                                      1210 non-null   int64 \n",
      " 2   I learn better by reading what the teacher writes on the chalkboard.     1210 non-null   int64 \n",
      " 3   When I read instructions, I remember them better.                        1210 non-null   int64 \n",
      " 4   I understand better when I read instructions.                            1210 non-null   int64 \n",
      " 5   I learn better by reading than by listening to someone.                  1210 non-null   int64 \n",
      " 6   I learn more by reading textbooks than by listening to lectures.         1210 non-null   int64 \n",
      " 7   When the teacher tells me the instructions I understand better           1210 non-null   int64 \n",
      " 8   When someone tells me how to do something in class, I learn it better.   1210 non-null   int64 \n",
      " 9   I remember things I have heard in class better than things I have read.  1210 non-null   int64 \n",
      " 10  I learn better in class when the teacher gives a lecture.                1210 non-null   int64 \n",
      " 11  I learn better in class when I listen to someone.                        1210 non-null   int64 \n",
      " 12  I prefer to learn by doing something in class.                           1210 non-null   int64 \n",
      " 13  When I do things in class, I learn better.                               1210 non-null   int64 \n",
      " 14  I enjoy learning in class by doing experiments.                          1210 non-null   int64 \n",
      " 15  I understand things better in class when I participate in role-playing.  1210 non-null   int64 \n",
      " 16  I understand things better in class when I participate in GD.            1210 non-null   int64 \n",
      " 17  Learner                                                                  1210 non-null   object\n",
      "dtypes: int64(16), object(2)\n",
      "memory usage: 170.3+ KB\n"
     ]
    }
   ],
   "source": [
    "data.info()"
   ]
  },
  {
   "cell_type": "code",
   "execution_count": 87,
   "id": "c6b138d5",
   "metadata": {},
   "outputs": [
    {
     "name": "stdout",
     "output_type": "stream",
     "text": [
      "Gender                                                                     0\n",
      "Age                                                                        0\n",
      "I learn better by reading what the teacher writes on the chalkboard.       0\n",
      "When I read instructions, I remember them better.                          0\n",
      "I understand better when I read instructions.                              0\n",
      "I learn better by reading than by listening to someone.                    0\n",
      "I learn more by reading textbooks than by listening to lectures.           0\n",
      "When the teacher tells me the instructions I understand better             0\n",
      "When someone tells me how to do something in class, I learn it better.     0\n",
      "I remember things I have heard in class better than things I have read.    0\n",
      "I learn better in class when the teacher gives a lecture.                  0\n",
      "I learn better in class when I listen to someone.                          0\n",
      "I prefer to learn by doing something in class.                             0\n",
      "When I do things in class, I learn better.                                 0\n",
      "I enjoy learning in class by doing experiments.                            0\n",
      "I understand things better in class when I participate in role-playing.    0\n",
      "I understand things better in class when I participate in GD.              0\n",
      "Learner                                                                    0\n",
      "dtype: int64\n"
     ]
    }
   ],
   "source": [
    "missing_data = data.isnull().sum()\n",
    "print(missing_data)"
   ]
  },
  {
   "cell_type": "code",
   "execution_count": 88,
   "id": "5c7ded2a",
   "metadata": {},
   "outputs": [
    {
     "data": {
      "text/plain": [
       "K    679\n",
       "A    286\n",
       "V    245\n",
       "Name: Learner, dtype: int64"
      ]
     },
     "execution_count": 88,
     "metadata": {},
     "output_type": "execute_result"
    }
   ],
   "source": [
    "data['Learner'].value_counts()"
   ]
  },
  {
   "cell_type": "code",
   "execution_count": 89,
   "id": "4d616dac",
   "metadata": {},
   "outputs": [
    {
     "data": {
      "text/plain": [
       "<AxesSubplot:xlabel='Learner', ylabel='count'>"
      ]
     },
     "execution_count": 89,
     "metadata": {},
     "output_type": "execute_result"
    },
    {
     "data": {
      "image/png": "[encoded data removed]",
      "text/plain": [
       "<Figure size 640x480 with 1 Axes>"
      ]
     },
     "metadata": {},
     "output_type": "display_data"
    }
   ],
   "source": [
    "import seaborn as sns\n",
    "sns.countplot(x=\"Learner\", data = data)"
   ]
  },
  {
   "cell_type": "code",
   "execution_count": 90,
   "id": "7b87a34c",
   "metadata": {},
   "outputs": [],
   "source": [
    "from sklearn import preprocessing\n",
    "  \n",
    "# label_encoder object knows how to understand word labels.\n",
    "label_encoder = preprocessing.LabelEncoder()\n",
    "  \n",
    "# Encode labels in column 'species'.\n",
    "data['Gender']= label_encoder.fit_transform(data['Gender'])\n",
    "data['Learner']= label_encoder.fit_transform(data['Learner'])"
   ]
  },
  {
   "cell_type": "code",
   "execution_count": 91,
   "id": "49db3f7c",
   "metadata": {},
   "outputs": [
    {
     "name": "stdout",
     "output_type": "stream",
     "text": [
      "<class 'pandas.core.frame.DataFrame'>\n",
      "RangeIndex: 1210 entries, 0 to 1209\n",
      "Data columns (total 18 columns):\n",
      " #   Column                                                                   Non-Null Count  Dtype\n",
      "---  ------                                                                   --------------  -----\n",
      " 0   Gender                                                                   1210 non-null   int32\n",
      " 1   Age                                                                      1210 non-null   int64\n",
      " 2   I learn better by reading what the teacher writes on the chalkboard.     1210 non-null   int64\n",
      " 3   When I read instructions, I remember them better.                        1210 non-null   int64\n",
      " 4   I understand better when I read instructions.                            1210 non-null   int64\n",
      " 5   I learn better by reading than by listening to someone.                  1210 non-null   int64\n",
      " 6   I learn more by reading textbooks than by listening to lectures.         1210 non-null   int64\n",
      " 7   When the teacher tells me the instructions I understand better           1210 non-null   int64\n",
      " 8   When someone tells me how to do something in class, I learn it better.   1210 non-null   int64\n",
      " 9   I remember things I have heard in class better than things I have read.  1210 non-null   int64\n",
      " 10  I learn better in class when the teacher gives a lecture.                1210 non-null   int64\n",
      " 11  I learn better in class when I listen to someone.                        1210 non-null   int64\n",
      " 12  I prefer to learn by doing something in class.                           1210 non-null   int64\n",
      " 13  When I do things in class, I learn better.                               1210 non-null   int64\n",
      " 14  I enjoy learning in class by doing experiments.                          1210 non-null   int64\n",
      " 15  I understand things better in class when I participate in role-playing.  1210 non-null   int64\n",
      " 16  I understand things better in class when I participate in GD.            1210 non-null   int64\n",
      " 17  Learner                                                                  1210 non-null   int32\n",
      "dtypes: int32(2), int64(16)\n",
      "memory usage: 160.8 KB\n"
     ]
    }
   ],
   "source": [
    "data.info()"
   ]
  },
  {
   "cell_type": "code",
   "execution_count": 92,
   "id": "a3804cd0",
   "metadata": {},
   "outputs": [],
   "source": [
    "X = data.iloc[:, 0:17]\n",
    "y = data.iloc[:,17]"
   ]
  },
  {
   "cell_type": "code",
   "execution_count": 93,
   "id": "45642a53",
   "metadata": {},
   "outputs": [
    {
     "data": {
      "text/html": [
       "<div>\n",
       "<style scoped>\n",
       "    .dataframe tbody tr th:only-of-type {\n",
       "        vertical-align: middle;\n",
       "    }\n",
       "\n",
       "    .dataframe tbody tr th {\n",
       "        vertical-align: top;\n",
       "    }\n",
       "\n",
       "    .dataframe thead th {\n",
       "        text-align: right;\n",
       "    }\n",
       "</style>\n",
       "<table border=\"1\" class=\"dataframe\">\n",
       "  <thead>\n",
       "    <tr style=\"text-align: right;\">\n",
       "      <th></th>\n",
       "      <th>Gender</th>\n",
       "      <th>Age</th>\n",
       "      <th>I learn better by reading what the teacher writes on the chalkboard.</th>\n",
       "      <th>When I read instructions, I remember them better.</th>\n",
       "      <th>I understand better when I read instructions.</th>\n",
       "      <th>I learn better by reading than by listening to someone.</th>\n",
       "      <th>I learn more by reading textbooks than by listening to lectures.</th>\n",
       "      <th>When the teacher tells me the instructions I understand better</th>\n",
       "      <th>When someone tells me how to do something in class, I learn it better.</th>\n",
       "      <th>I remember things I have heard in class better than things I have read.</th>\n",
       "      <th>I learn better in class when the teacher gives a lecture.</th>\n",
       "      <th>I learn better in class when I listen to someone.</th>\n",
       "      <th>I prefer to learn by doing something in class.</th>\n",
       "      <th>When I do things in class, I learn better.</th>\n",
       "      <th>I enjoy learning in class by doing experiments.</th>\n",
       "      <th>I understand things better in class when I participate in role-playing.</th>\n",
       "      <th>I understand things better in class when I participate in GD.</th>\n",
       "    </tr>\n",
       "  </thead>\n",
       "  <tbody>\n",
       "    <tr>\n",
       "      <th>0</th>\n",
       "      <td>1</td>\n",
       "      <td>16</td>\n",
       "      <td>3</td>\n",
       "      <td>3</td>\n",
       "      <td>4</td>\n",
       "      <td>3</td>\n",
       "      <td>2</td>\n",
       "      <td>4</td>\n",
       "      <td>3</td>\n",
       "      <td>3</td>\n",
       "      <td>2</td>\n",
       "      <td>3</td>\n",
       "      <td>4</td>\n",
       "      <td>2</td>\n",
       "      <td>2</td>\n",
       "      <td>3</td>\n",
       "      <td>3</td>\n",
       "    </tr>\n",
       "    <tr>\n",
       "      <th>1</th>\n",
       "      <td>1</td>\n",
       "      <td>16</td>\n",
       "      <td>5</td>\n",
       "      <td>4</td>\n",
       "      <td>4</td>\n",
       "      <td>4</td>\n",
       "      <td>3</td>\n",
       "      <td>3</td>\n",
       "      <td>2</td>\n",
       "      <td>4</td>\n",
       "      <td>3</td>\n",
       "      <td>4</td>\n",
       "      <td>3</td>\n",
       "      <td>4</td>\n",
       "      <td>3</td>\n",
       "      <td>4</td>\n",
       "      <td>4</td>\n",
       "    </tr>\n",
       "    <tr>\n",
       "      <th>2</th>\n",
       "      <td>1</td>\n",
       "      <td>18</td>\n",
       "      <td>3</td>\n",
       "      <td>4</td>\n",
       "      <td>3</td>\n",
       "      <td>3</td>\n",
       "      <td>4</td>\n",
       "      <td>2</td>\n",
       "      <td>4</td>\n",
       "      <td>3</td>\n",
       "      <td>2</td>\n",
       "      <td>2</td>\n",
       "      <td>3</td>\n",
       "      <td>2</td>\n",
       "      <td>3</td>\n",
       "      <td>3</td>\n",
       "      <td>3</td>\n",
       "    </tr>\n",
       "    <tr>\n",
       "      <th>3</th>\n",
       "      <td>1</td>\n",
       "      <td>21</td>\n",
       "      <td>1</td>\n",
       "      <td>3</td>\n",
       "      <td>3</td>\n",
       "      <td>4</td>\n",
       "      <td>4</td>\n",
       "      <td>2</td>\n",
       "      <td>2</td>\n",
       "      <td>2</td>\n",
       "      <td>2</td>\n",
       "      <td>2</td>\n",
       "      <td>4</td>\n",
       "      <td>4</td>\n",
       "      <td>4</td>\n",
       "      <td>4</td>\n",
       "      <td>5</td>\n",
       "    </tr>\n",
       "    <tr>\n",
       "      <th>4</th>\n",
       "      <td>0</td>\n",
       "      <td>21</td>\n",
       "      <td>4</td>\n",
       "      <td>4</td>\n",
       "      <td>4</td>\n",
       "      <td>5</td>\n",
       "      <td>5</td>\n",
       "      <td>4</td>\n",
       "      <td>4</td>\n",
       "      <td>3</td>\n",
       "      <td>4</td>\n",
       "      <td>4</td>\n",
       "      <td>5</td>\n",
       "      <td>5</td>\n",
       "      <td>5</td>\n",
       "      <td>3</td>\n",
       "      <td>3</td>\n",
       "    </tr>\n",
       "    <tr>\n",
       "      <th>...</th>\n",
       "      <td>...</td>\n",
       "      <td>...</td>\n",
       "      <td>...</td>\n",
       "      <td>...</td>\n",
       "      <td>...</td>\n",
       "      <td>...</td>\n",
       "      <td>...</td>\n",
       "      <td>...</td>\n",
       "      <td>...</td>\n",
       "      <td>...</td>\n",
       "      <td>...</td>\n",
       "      <td>...</td>\n",
       "      <td>...</td>\n",
       "      <td>...</td>\n",
       "      <td>...</td>\n",
       "      <td>...</td>\n",
       "      <td>...</td>\n",
       "    </tr>\n",
       "    <tr>\n",
       "      <th>1205</th>\n",
       "      <td>1</td>\n",
       "      <td>17</td>\n",
       "      <td>2</td>\n",
       "      <td>3</td>\n",
       "      <td>3</td>\n",
       "      <td>4</td>\n",
       "      <td>4</td>\n",
       "      <td>3</td>\n",
       "      <td>3</td>\n",
       "      <td>3</td>\n",
       "      <td>3</td>\n",
       "      <td>3</td>\n",
       "      <td>4</td>\n",
       "      <td>4</td>\n",
       "      <td>4</td>\n",
       "      <td>4</td>\n",
       "      <td>4</td>\n",
       "    </tr>\n",
       "    <tr>\n",
       "      <th>1206</th>\n",
       "      <td>1</td>\n",
       "      <td>18</td>\n",
       "      <td>5</td>\n",
       "      <td>2</td>\n",
       "      <td>4</td>\n",
       "      <td>3</td>\n",
       "      <td>3</td>\n",
       "      <td>3</td>\n",
       "      <td>3</td>\n",
       "      <td>3</td>\n",
       "      <td>3</td>\n",
       "      <td>5</td>\n",
       "      <td>3</td>\n",
       "      <td>5</td>\n",
       "      <td>4</td>\n",
       "      <td>3</td>\n",
       "      <td>3</td>\n",
       "    </tr>\n",
       "    <tr>\n",
       "      <th>1207</th>\n",
       "      <td>1</td>\n",
       "      <td>19</td>\n",
       "      <td>4</td>\n",
       "      <td>4</td>\n",
       "      <td>5</td>\n",
       "      <td>3</td>\n",
       "      <td>5</td>\n",
       "      <td>5</td>\n",
       "      <td>4</td>\n",
       "      <td>4</td>\n",
       "      <td>5</td>\n",
       "      <td>3</td>\n",
       "      <td>4</td>\n",
       "      <td>3</td>\n",
       "      <td>5</td>\n",
       "      <td>5</td>\n",
       "      <td>5</td>\n",
       "    </tr>\n",
       "    <tr>\n",
       "      <th>1208</th>\n",
       "      <td>0</td>\n",
       "      <td>17</td>\n",
       "      <td>2</td>\n",
       "      <td>3</td>\n",
       "      <td>5</td>\n",
       "      <td>4</td>\n",
       "      <td>4</td>\n",
       "      <td>4</td>\n",
       "      <td>4</td>\n",
       "      <td>5</td>\n",
       "      <td>4</td>\n",
       "      <td>3</td>\n",
       "      <td>4</td>\n",
       "      <td>5</td>\n",
       "      <td>2</td>\n",
       "      <td>3</td>\n",
       "      <td>5</td>\n",
       "    </tr>\n",
       "    <tr>\n",
       "      <th>1209</th>\n",
       "      <td>1</td>\n",
       "      <td>16</td>\n",
       "      <td>4</td>\n",
       "      <td>3</td>\n",
       "      <td>3</td>\n",
       "      <td>5</td>\n",
       "      <td>3</td>\n",
       "      <td>4</td>\n",
       "      <td>3</td>\n",
       "      <td>4</td>\n",
       "      <td>3</td>\n",
       "      <td>3</td>\n",
       "      <td>3</td>\n",
       "      <td>4</td>\n",
       "      <td>1</td>\n",
       "      <td>4</td>\n",
       "      <td>3</td>\n",
       "    </tr>\n",
       "  </tbody>\n",
       "</table>\n",
       "<p>1210 rows × 17 columns</p>\n",
       "</div>"
      ],
      "text/plain": [
       "      Gender  Age  \\\n",
       "0          1   16   \n",
       "1          1   16   \n",
       "2          1   18   \n",
       "3          1   21   \n",
       "4          0   21   \n",
       "...      ...  ...   \n",
       "1205       1   17   \n",
       "1206       1   18   \n",
       "1207       1   19   \n",
       "1208       0   17   \n",
       "1209       1   16   \n",
       "\n",
       "      I learn better by reading what the teacher writes on the chalkboard.  \\\n",
       "0                                                     3                      \n",
       "1                                                     5                      \n",
       "2                                                     3                      \n",
       "3                                                     1                      \n",
       "4                                                     4                      \n",
       "...                                                 ...                      \n",
       "1205                                                  2                      \n",
       "1206                                                  5                      \n",
       "1207                                                  4                      \n",
       "1208                                                  2                      \n",
       "1209                                                  4                      \n",
       "\n",
       "      When I read instructions, I remember them better.  \\\n",
       "0                                                     3   \n",
       "1                                                     4   \n",
       "2                                                     4   \n",
       "3                                                     3   \n",
       "4                                                     4   \n",
       "...                                                 ...   \n",
       "1205                                                  3   \n",
       "1206                                                  2   \n",
       "1207                                                  4   \n",
       "1208                                                  3   \n",
       "1209                                                  3   \n",
       "\n",
       "      I understand better when I read instructions.  \\\n",
       "0                                                 4   \n",
       "1                                                 4   \n",
       "2                                                 3   \n",
       "3                                                 3   \n",
       "4                                                 4   \n",
       "...                                             ...   \n",
       "1205                                              3   \n",
       "1206                                              4   \n",
       "1207                                              5   \n",
       "1208                                              5   \n",
       "1209                                              3   \n",
       "\n",
       "      I learn better by reading than by listening to someone.  \\\n",
       "0                                                     3         \n",
       "1                                                     4         \n",
       "2                                                     3         \n",
       "3                                                     4         \n",
       "4                                                     5         \n",
       "...                                                 ...         \n",
       "1205                                                  4         \n",
       "1206                                                  3         \n",
       "1207                                                  3         \n",
       "1208                                                  4         \n",
       "1209                                                  5         \n",
       "\n",
       "      I learn more by reading textbooks than by listening to lectures.  \\\n",
       "0                                                     2                  \n",
       "1                                                     3                  \n",
       "2                                                     4                  \n",
       "3                                                     4                  \n",
       "4                                                     5                  \n",
       "...                                                 ...                  \n",
       "1205                                                  4                  \n",
       "1206                                                  3                  \n",
       "1207                                                  5                  \n",
       "1208                                                  4                  \n",
       "1209                                                  3                  \n",
       "\n",
       "      When the teacher tells me the instructions I understand better  \\\n",
       "0                                                     4                \n",
       "1                                                     3                \n",
       "2                                                     2                \n",
       "3                                                     2                \n",
       "4                                                     4                \n",
       "...                                                 ...                \n",
       "1205                                                  3                \n",
       "1206                                                  3                \n",
       "1207                                                  5                \n",
       "1208                                                  4                \n",
       "1209                                                  4                \n",
       "\n",
       "      When someone tells me how to do something in class, I learn it better.  \\\n",
       "0                                                     3                        \n",
       "1                                                     2                        \n",
       "2                                                     4                        \n",
       "3                                                     2                        \n",
       "4                                                     4                        \n",
       "...                                                 ...                        \n",
       "1205                                                  3                        \n",
       "1206                                                  3                        \n",
       "1207                                                  4                        \n",
       "1208                                                  4                        \n",
       "1209                                                  3                        \n",
       "\n",
       "      I remember things I have heard in class better than things I have read.  \\\n",
       "0                                                     3                         \n",
       "1                                                     4                         \n",
       "2                                                     3                         \n",
       "3                                                     2                         \n",
       "4                                                     3                         \n",
       "...                                                 ...                         \n",
       "1205                                                  3                         \n",
       "1206                                                  3                         \n",
       "1207                                                  4                         \n",
       "1208                                                  5                         \n",
       "1209                                                  4                         \n",
       "\n",
       "      I learn better in class when the teacher gives a lecture.  \\\n",
       "0                                                     2           \n",
       "1                                                     3           \n",
       "2                                                     2           \n",
       "3                                                     2           \n",
       "4                                                     4           \n",
       "...                                                 ...           \n",
       "1205                                                  3           \n",
       "1206                                                  3           \n",
       "1207                                                  5           \n",
       "1208                                                  4           \n",
       "1209                                                  3           \n",
       "\n",
       "      I learn better in class when I listen to someone.  \\\n",
       "0                                                     3   \n",
       "1                                                     4   \n",
       "2                                                     2   \n",
       "3                                                     2   \n",
       "4                                                     4   \n",
       "...                                                 ...   \n",
       "1205                                                  3   \n",
       "1206                                                  5   \n",
       "1207                                                  3   \n",
       "1208                                                  3   \n",
       "1209                                                  3   \n",
       "\n",
       "      I prefer to learn by doing something in class.  \\\n",
       "0                                                  4   \n",
       "1                                                  3   \n",
       "2                                                  3   \n",
       "3                                                  4   \n",
       "4                                                  5   \n",
       "...                                              ...   \n",
       "1205                                               4   \n",
       "1206                                               3   \n",
       "1207                                               4   \n",
       "1208                                               4   \n",
       "1209                                               3   \n",
       "\n",
       "      When I do things in class, I learn better.  \\\n",
       "0                                              2   \n",
       "1                                              4   \n",
       "2                                              2   \n",
       "3                                              4   \n",
       "4                                              5   \n",
       "...                                          ...   \n",
       "1205                                           4   \n",
       "1206                                           5   \n",
       "1207                                           3   \n",
       "1208                                           5   \n",
       "1209                                           4   \n",
       "\n",
       "      I enjoy learning in class by doing experiments.  \\\n",
       "0                                                   2   \n",
       "1                                                   3   \n",
       "2                                                   3   \n",
       "3                                                   4   \n",
       "4                                                   5   \n",
       "...                                               ...   \n",
       "1205                                                4   \n",
       "1206                                                4   \n",
       "1207                                                5   \n",
       "1208                                                2   \n",
       "1209                                                1   \n",
       "\n",
       "      I understand things better in class when I participate in role-playing.  \\\n",
       "0                                                     3                         \n",
       "1                                                     4                         \n",
       "2                                                     3                         \n",
       "3                                                     4                         \n",
       "4                                                     3                         \n",
       "...                                                 ...                         \n",
       "1205                                                  4                         \n",
       "1206                                                  3                         \n",
       "1207                                                  5                         \n",
       "1208                                                  3                         \n",
       "1209                                                  4                         \n",
       "\n",
       "      I understand things better in class when I participate in GD.  \n",
       "0                                                     3              \n",
       "1                                                     4              \n",
       "2                                                     3              \n",
       "3                                                     5              \n",
       "4                                                     3              \n",
       "...                                                 ...              \n",
       "1205                                                  4              \n",
       "1206                                                  3              \n",
       "1207                                                  5              \n",
       "1208                                                  5              \n",
       "1209                                                  3              \n",
       "\n",
       "[1210 rows x 17 columns]"
      ]
     },
     "execution_count": 93,
     "metadata": {},
     "output_type": "execute_result"
    }
   ],
   "source": [
    "X"
   ]
  },
  {
   "cell_type": "code",
   "execution_count": 94,
   "id": "dcbd7d83",
   "metadata": {},
   "outputs": [
    {
     "data": {
      "text/plain": [
       "0       1\n",
       "1       0\n",
       "2       0\n",
       "3       1\n",
       "4       0\n",
       "       ..\n",
       "1205    1\n",
       "1206    1\n",
       "1207    1\n",
       "1208    2\n",
       "1209    0\n",
       "Name: Learner, Length: 1210, dtype: int32"
      ]
     },
     "execution_count": 94,
     "metadata": {},
     "output_type": "execute_result"
    }
   ],
   "source": [
    "y"
   ]
  },
  {
   "cell_type": "code",
   "execution_count": 50,
   "id": "f0d0a47b",
   "metadata": {},
   "outputs": [],
   "source": [
    "import pandas as pd\n",
    "from sklearn import metrics\n",
    "from sklearn.model_selection import train_test_split\n",
    "from sklearn.metrics import recall_score\n",
    "from sklearn.metrics import classification_report\n",
    "from sklearn.metrics import confusion_matrix\n",
    "from sklearn.tree import DecisionTreeClassifier"
   ]
  },
  {
   "cell_type": "code",
   "execution_count": 51,
   "id": "34d55b55",
   "metadata": {},
   "outputs": [],
   "source": [
    "x_train,x_test,y_train,y_test=train_test_split(X,y,test_size=0.2)"
   ]
  },
  {
   "cell_type": "code",
   "execution_count": 52,
   "id": "dbd73e69",
   "metadata": {},
   "outputs": [
    {
     "name": "stdout",
     "output_type": "stream",
     "text": [
      "*Confusion Matrix for LDA: \n",
      "[[ 49   4   0]\n",
      " [  7 133   4]\n",
      " [  2   8  35]]\n"
     ]
    }
   ],
   "source": [
    "from sklearn.discriminant_analysis import LinearDiscriminantAnalysis\n",
    "lda = LinearDiscriminantAnalysis()\n",
    "lda.fit(x_train, y_train)\n",
    "predictions = lda.predict(x_test)\n",
    "print(\"*Confusion Matrix for LDA: \")\n",
    "print(confusion_matrix(y_test, predictions))"
   ]
  },
  {
   "cell_type": "code",
   "execution_count": 53,
   "id": "821ce58f",
   "metadata": {},
   "outputs": [
    {
     "name": "stdout",
     "output_type": "stream",
     "text": [
      "*Classification Matrix for LDA: \n",
      "              precision    recall  f1-score   support\n",
      "\n",
      "           0       0.84      0.92      0.88        53\n",
      "           1       0.92      0.92      0.92       144\n",
      "           2       0.90      0.78      0.83        45\n",
      "\n",
      "    accuracy                           0.90       242\n",
      "   macro avg       0.89      0.88      0.88       242\n",
      "weighted avg       0.90      0.90      0.90       242\n",
      "\n"
     ]
    }
   ],
   "source": [
    "print(\"*Classification Matrix for LDA: \")\n",
    "print(classification_report(y_test, predictions))"
   ]
  },
  {
   "cell_type": "code",
   "execution_count": 54,
   "id": "44f95388",
   "metadata": {},
   "outputs": [
    {
     "name": "stdout",
     "output_type": "stream",
     "text": [
      "89.6694214876033\n"
     ]
    }
   ],
   "source": [
    "val = accuracy_score(y_test, predictions) *100\n",
    "print(val)"
   ]
  },
  {
   "cell_type": "code",
   "execution_count": 75,
   "id": "295456d3",
   "metadata": {},
   "outputs": [
    {
     "name": "stdout",
     "output_type": "stream",
     "text": [
      "Precision: 0.908\n",
      "Recall: 0.905\n",
      "F1 Score: 0.906\n"
     ]
    }
   ],
   "source": [
    "from sklearn.metrics import precision_score, recall_score, f1_score,cohen_kappa_score\n",
    "print('Precision: %.3f' % precision_score(y_test, predictions,average='weighted'))\n",
    "\n",
    "print('Recall: %.3f' % recall_score(y_test, predictions,average='weighted'))\n",
    "\n",
    "print('F1 Score: %.3f' % f1_score(y_test, predictions,average='weighted'))\n",
    "\n"
   ]
  },
  {
   "cell_type": "code",
   "execution_count": 56,
   "id": "19c0810f",
   "metadata": {},
   "outputs": [
    {
     "name": "stdout",
     "output_type": "stream",
     "text": [
      "*Confusion Matrix for RF: \n",
      "[[ 45   8   0]\n",
      " [  7 136   1]\n",
      " [  1  11  33]]\n"
     ]
    }
   ],
   "source": [
    "from sklearn.ensemble import RandomForestClassifier\n",
    "RF = RandomForestClassifier()\n",
    "RF.fit(x_train,y_train)\n",
    "predictions = RF.predict(x_test)\n",
    "print(\"*Confusion Matrix for RF: \")\n",
    "print(confusion_matrix(y_test, predictions))"
   ]
  },
  {
   "cell_type": "code",
   "execution_count": 58,
   "id": "5ec92e84",
   "metadata": {},
   "outputs": [
    {
     "name": "stdout",
     "output_type": "stream",
     "text": [
      "*Classification Matrix for RF: \n",
      "              precision    recall  f1-score   support\n",
      "\n",
      "           0       0.85      0.85      0.85        53\n",
      "           1       0.88      0.94      0.91       144\n",
      "           2       0.97      0.73      0.84        45\n",
      "\n",
      "    accuracy                           0.88       242\n",
      "   macro avg       0.90      0.84      0.86       242\n",
      "weighted avg       0.89      0.88      0.88       242\n",
      "\n"
     ]
    }
   ],
   "source": [
    "print(\"*Classification Matrix for RF: \")\n",
    "print(classification_report(y_test, predictions))"
   ]
  },
  {
   "cell_type": "code",
   "execution_count": 59,
   "id": "908f14a7",
   "metadata": {},
   "outputs": [
    {
     "name": "stdout",
     "output_type": "stream",
     "text": [
      "88.42975206611571\n"
     ]
    }
   ],
   "source": [
    "val1 = accuracy_score(y_test, predictions) *100\n",
    "print(val1)"
   ]
  },
  {
   "cell_type": "code",
   "execution_count": 76,
   "id": "234925e3",
   "metadata": {},
   "outputs": [
    {
     "name": "stdout",
     "output_type": "stream",
     "text": [
      "Precision: 0.908\n",
      "Recall: 0.905\n",
      "F1 Score: 0.906\n"
     ]
    }
   ],
   "source": [
    "from sklearn.metrics import precision_score, recall_score, f1_score,cohen_kappa_score\n",
    "print('Precision: %.3f' % precision_score(y_test, predictions,average='weighted'))\n",
    "\n",
    "print('Recall: %.3f' % recall_score(y_test, predictions,average='weighted'))\n",
    "\n",
    "print('F1 Score: %.3f' % f1_score(y_test, predictions,average='weighted'))\n",
    "\n"
   ]
  },
  {
   "cell_type": "code",
   "execution_count": 61,
   "id": "61c93182",
   "metadata": {},
   "outputs": [
    {
     "name": "stdout",
     "output_type": "stream",
     "text": [
      "*Confusion Matrix for DT: \n",
      "[[ 41  10   2]\n",
      " [ 16 114  14]\n",
      " [  2   9  34]]\n"
     ]
    }
   ],
   "source": [
    "from sklearn import tree\n",
    "DT = tree.DecisionTreeClassifier()\n",
    "DT.fit(x_train, y_train)\n",
    "predictions = DT.predict(x_test)\n",
    "print(\"*Confusion Matrix for DT: \")\n",
    "print(confusion_matrix(y_test, predictions))"
   ]
  },
  {
   "cell_type": "code",
   "execution_count": 62,
   "id": "81d01dad",
   "metadata": {},
   "outputs": [
    {
     "name": "stdout",
     "output_type": "stream",
     "text": [
      "*Classification Matrix for DT: \n",
      "              precision    recall  f1-score   support\n",
      "\n",
      "           0       0.69      0.77      0.73        53\n",
      "           1       0.86      0.79      0.82       144\n",
      "           2       0.68      0.76      0.72        45\n",
      "\n",
      "    accuracy                           0.78       242\n",
      "   macro avg       0.74      0.77      0.76       242\n",
      "weighted avg       0.79      0.78      0.78       242\n",
      "\n"
     ]
    }
   ],
   "source": [
    "print(\"*Classification Matrix for DT: \")\n",
    "print(classification_report(y_test, predictions))"
   ]
  },
  {
   "cell_type": "code",
   "execution_count": 63,
   "id": "5d8e4606",
   "metadata": {},
   "outputs": [
    {
     "name": "stdout",
     "output_type": "stream",
     "text": [
      "78.099173553719\n"
     ]
    }
   ],
   "source": [
    "val2 = accuracy_score(y_test, predictions) *100\n",
    "print(val2)"
   ]
  },
  {
   "cell_type": "code",
   "execution_count": 77,
   "id": "d6f74034",
   "metadata": {},
   "outputs": [
    {
     "name": "stdout",
     "output_type": "stream",
     "text": [
      "Precision: 0.908\n",
      "Recall: 0.905\n",
      "F1 Score: 0.906\n"
     ]
    }
   ],
   "source": [
    "from sklearn.metrics import precision_score, recall_score, f1_score,cohen_kappa_score\n",
    "print('Precision: %.3f' % precision_score(y_test, predictions,average='weighted'))\n",
    "\n",
    "print('Recall: %.3f' % recall_score(y_test, predictions,average='weighted'))\n",
    "\n",
    "print('F1 Score: %.3f' % f1_score(y_test, predictions,average='weighted'))\n",
    "\n"
   ]
  },
  {
   "cell_type": "code",
   "execution_count": 65,
   "id": "513dbf29",
   "metadata": {},
   "outputs": [
    {
     "name": "stdout",
     "output_type": "stream",
     "text": [
      "*Confusion Matrix for svm: \n",
      "[[ 49   4   0]\n",
      " [  5 139   0]\n",
      " [  1  19  25]]\n"
     ]
    }
   ],
   "source": [
    "from sklearn.svm import SVC\n",
    "svm = SVC()\n",
    "svm.fit(x_train, y_train)\n",
    "predictions = svm.predict(x_test)\n",
    "print(\"*Confusion Matrix for svm: \")\n",
    "print(confusion_matrix(y_test, predictions))"
   ]
  },
  {
   "cell_type": "code",
   "execution_count": 66,
   "id": "fecab27b",
   "metadata": {},
   "outputs": [
    {
     "name": "stdout",
     "output_type": "stream",
     "text": [
      "*Classification Matrix for svm: \n",
      "              precision    recall  f1-score   support\n",
      "\n",
      "           0       0.89      0.92      0.91        53\n",
      "           1       0.86      0.97      0.91       144\n",
      "           2       1.00      0.56      0.71        45\n",
      "\n",
      "    accuracy                           0.88       242\n",
      "   macro avg       0.92      0.82      0.84       242\n",
      "weighted avg       0.89      0.88      0.87       242\n",
      "\n"
     ]
    }
   ],
   "source": [
    "print(\"*Classification Matrix for svm: \")\n",
    "print(classification_report(y_test, predictions))"
   ]
  },
  {
   "cell_type": "code",
   "execution_count": 67,
   "id": "4364e07a",
   "metadata": {},
   "outputs": [
    {
     "name": "stdout",
     "output_type": "stream",
     "text": [
      "88.01652892561982\n"
     ]
    }
   ],
   "source": [
    "val3 = accuracy_score(y_test, predictions) *100\n",
    "print(val3)"
   ]
  },
  {
   "cell_type": "code",
   "execution_count": 78,
   "id": "a64cab97",
   "metadata": {},
   "outputs": [
    {
     "name": "stdout",
     "output_type": "stream",
     "text": [
      "Precision: 0.908\n",
      "Recall: 0.905\n",
      "F1 Score: 0.906\n"
     ]
    }
   ],
   "source": [
    "from sklearn.metrics import precision_score, recall_score, f1_score,cohen_kappa_score\n",
    "print('Precision: %.3f' % precision_score(y_test, predictions,average='weighted'))\n",
    "\n",
    "print('Recall: %.3f' % recall_score(y_test, predictions,average='weighted'))\n",
    "\n",
    "print('F1 Score: %.3f' % f1_score(y_test, predictions,average='weighted'))\n",
    "\n"
   ]
  },
  {
   "cell_type": "code",
   "execution_count": 69,
   "id": "5355bad1",
   "metadata": {},
   "outputs": [
    {
     "name": "stdout",
     "output_type": "stream",
     "text": [
      "*Confusion Matrix for Voting Classifier: \n",
      "[[ 49   4   0]\n",
      " [  9 130   5]\n",
      " [  1   4  40]]\n",
      "*Classification Matrix for Voting Classifier: \n",
      "              precision    recall  f1-score   support\n",
      "\n",
      "           0       0.83      0.92      0.88        53\n",
      "           1       0.94      0.90      0.92       144\n",
      "           2       0.89      0.89      0.89        45\n",
      "\n",
      "    accuracy                           0.90       242\n",
      "   macro avg       0.89      0.91      0.90       242\n",
      "weighted avg       0.91      0.90      0.91       242\n",
      "\n"
     ]
    }
   ],
   "source": [
    "from sklearn.svm import SVC\n",
    "from sklearn.tree import DecisionTreeClassifier\n",
    "from sklearn.discriminant_analysis import LinearDiscriminantAnalysis\n",
    "from sklearn.ensemble import RandomForestClassifier, VotingClassifier\n",
    "from sklearn.pipeline import make_pipeline\n",
    "from sklearn.preprocessing import StandardScaler\n",
    "\n",
    "# Create pipelines for classifiers with StandardScaler normalization\n",
    "svc = make_pipeline(StandardScaler(), SVC(probability=True))\n",
    "rf = make_pipeline(StandardScaler(), RandomForestClassifier(n_estimators=50, random_state=1))\n",
    "dt = make_pipeline(StandardScaler(), DecisionTreeClassifier())\n",
    "clf1=make_pipeline(StandardScaler(),LinearDiscriminantAnalysis())\n",
    "\n",
    "# Create voting classifier\n",
    "eclf1 = VotingClassifier(estimators=[('svc', svc),('lr', clf1), ('rf', rf), ('dt', dt)], voting='soft')\n",
    "eclf1.fit(x_train, y_train)\n",
    "\n",
    "# Make predictions\n",
    "predictions = eclf1.predict(x_test)\n",
    "\n",
    "# Print results\n",
    "print(\"*Confusion Matrix for Voting Classifier: \")\n",
    "print(confusion_matrix(y_test, predictions))\n",
    "\n",
    "print(\"*Classification Matrix for Voting Classifier: \")\n",
    "print(classification_report(y_test, predictions))\n",
    "\n"
   ]
  },
  {
   "cell_type": "code",
   "execution_count": 70,
   "id": "95ed10d8",
   "metadata": {},
   "outputs": [
    {
     "name": "stdout",
     "output_type": "stream",
     "text": [
      "90.49586776859503\n"
     ]
    }
   ],
   "source": [
    "val5 = accuracy_score(y_test, predictions) *100\n",
    "print(val5)"
   ]
  },
  {
   "cell_type": "code",
   "execution_count": 79,
   "id": "bd6acab5",
   "metadata": {},
   "outputs": [
    {
     "name": "stdout",
     "output_type": "stream",
     "text": [
      "Precision: 0.908\n",
      "Recall: 0.905\n",
      "F1 Score: 0.906\n"
     ]
    }
   ],
   "source": [
    "from sklearn.metrics import precision_score, recall_score, f1_score,cohen_kappa_score\n",
    "print('Precision: %.3f' % precision_score(y_test, predictions,average='weighted'))\n",
    "\n",
    "print('Recall: %.3f' % recall_score(y_test, predictions,average='weighted'))\n",
    "\n",
    "print('F1 Score: %.3f' % f1_score(y_test, predictions,average='weighted'))\n",
    "\n"
   ]
  },
  {
   "cell_type": "code",
   "execution_count": 80,
   "id": "8f1a437b",
   "metadata": {},
   "outputs": [],
   "source": [
    "score = [val1,val2,val3,val,val5]"
   ]
  },
  {
   "cell_type": "code",
   "execution_count": 81,
   "id": "546687ac",
   "metadata": {},
   "outputs": [
    {
     "name": "stdout",
     "output_type": "stream",
     "text": [
      "[0 1 2 3 4]\n",
      "[88.42975206611571, 78.099173553719, 88.01652892561982, 89.6694214876033, 90.49586776859503]\n"
     ]
    }
   ],
   "source": [
    "classifier = ('Random Forest','Decision Tree','SVM','LDA-Matrix','Voting Classifier')\n",
    "y_pos = np.arange(len(classifier))\n",
    "print(y_pos)\n",
    "print(score)"
   ]
  },
  {
   "cell_type": "code",
   "execution_count": 74,
   "id": "686d7220",
   "metadata": {},
   "outputs": [
    {
     "data": {
      "text/plain": [
       "['model.sav']"
      ]
     },
     "execution_count": 74,
     "metadata": {},
     "output_type": "execute_result"
    }
   ],
   "source": [
    "import joblib\n",
    "filename = 'model.sav'\n",
    "joblib.dump(eclf1, filename)"
   ]
  },
  {
   "cell_type": "code",
   "execution_count": null,
   "id": "8b12c134",
   "metadata": {},
   "outputs": [],
   "source": []
  },
  {
   "cell_type": "code",
   "execution_count": null,
   "id": "be748e9a",
   "metadata": {},
   "outputs": [],
   "source": []
  }
 ],
 "metadata": {
  "kernelspec": {
   "display_name": "Python 3 (ipykernel)",
   "language": "python",
   "name": "python3"
  },
  "language_info": {
   "codemirror_mode": {
    "name": "ipython",
    "version": 3
   },
   "file_extension": ".py",
   "mimetype": "text/x-python",
   "name": "python",
   "nbconvert_exporter": "python",
   "pygments_lexer": "ipython3",
   "version": "3.9.13"
  }
 },
 "nbformat": 4,
 "nbformat_minor": 5
}
